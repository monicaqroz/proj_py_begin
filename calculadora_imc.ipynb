{
  "nbformat": 4,
  "nbformat_minor": 0,
  "metadata": {
    "colab": {
      "name": "calculadora_imc.ipynb",
      "provenance": [],
      "authorship_tag": "ABX9TyNqnH4N48MMH24IarqW9pCq",
      "include_colab_link": true
    },
    "kernelspec": {
      "name": "python3",
      "display_name": "Python 3"
    },
    "language_info": {
      "name": "python"
    }
  },
  "cells": [
    {
      "cell_type": "markdown",
      "metadata": {
        "id": "view-in-github",
        "colab_type": "text"
      },
      "source": [
        "<a href=\"https://colab.research.google.com/github/monicaqroz/proj_py_begin/blob/main/calculadora_imc.ipynb\" target=\"_parent\"><img src=\"https://colab.research.google.com/assets/colab-badge.svg\" alt=\"Open In Colab\"/></a>"
      ]
    },
    {
      "cell_type": "code",
      "execution_count": 22,
      "metadata": {
        "colab": {
          "base_uri": "https://localhost:8080/"
        },
        "id": "OOoAhdidkIgu",
        "outputId": "40439906-68b9-4237-bce3-71c54b6d1415"
      },
      "outputs": [
        {
          "output_type": "stream",
          "name": "stdout",
          "text": [
            "Qual a sua altura em cm: 145\n",
            "Qual seu peso em kg: 45\n",
            "Seu IMC é de  21.40309155766944 classificado como Normal\n"
          ]
        }
      ],
      "source": [
        "#Calculadora_IMC\n",
        "#Objetivo: Identificar o índice de Massa Corporal do usuário\n",
        "\n",
        "altura = float(input(\"Qual a sua altura em cm: \"))\n",
        "peso = float(input(\"Qual seu peso em kg: \"))\n",
        "\n",
        "imc = (peso/(altura/100)**2)\n",
        "\n",
        "if imc < 18.5:\n",
        "  print(\"Seu IMC é de \", imc, \"classificado como Magreza\")\n",
        "elif  imc >= 18.5 and imc < 24.9:\n",
        "  print(\"Seu IMC é de \", imc, \"classificado como Normal\")\n",
        "elif imc >= 24.9 and imc < 29.9:\n",
        "  print(\"Seu IMC é de: \", imc, \"classificado como Sobrepeso\")\n",
        "elif imc >= 29.9 and imc < 39.9:\n",
        "  print(\"Seu IMC é de : \", imc, \"classificado como obesidade\")\n",
        "else:\n",
        "  print(\"Seu IMC é de: \", imc, \"classificado como obesidade grave\")"
      ]
    }
  ]
}